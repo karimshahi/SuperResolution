{
 "cells": [
  {
   "cell_type": "markdown",
   "id": "b98cc171-740a-41fc-ba9c-87ed49e8712b",
   "metadata": {},
   "source": [
    " جبر خطی (ماتریسها، بردارها، تجزیه مقادیر تکین)"
   ]
  },
  {
   "cell_type": "markdown",
   "id": "db17ec99-09ad-4a9d-9a63-55e4e373f26f",
   "metadata": {},
   "source": [
    "مثال: محاسبه ضرب ماتریسها و تجزیه SVD با NumPy:"
   ]
  },
  {
   "cell_type": "code",
   "execution_count": null,
   "id": "b3a0aeda-a14f-46e6-a603-17afd32ddf8f",
   "metadata": {},
   "outputs": [],
   "source": [
    "import numpy as np\n",
    "\n",
    "# ماتریس 2x2\n",
    "A = np.array([[1, 2], [3, 4]])\n",
    "\n",
    "# ضرب ماتریسها\n",
    "B = np.dot(A, A.T)  # A در ترانهاده خودش\n",
    "\n",
    "# تجزیه SVD\n",
    "U, S, VT = np.linalg.svd(A)\n",
    "print(\"SVD Results:\\nU:\", U, \"\\nS:\", S, \"\\nVT:\", VT)"
   ]
  },
  {
   "cell_type": "markdown",
   "id": "70ce8fa6-4e20-471c-aa54-4b610f226d26",
   "metadata": {},
   "source": [
    "۲. حسابان (مشتقات، گرادیان، بهینهسازی)\n",
    "مثال: محاسبه مشتق تابع ساده با SymPy و گرادیان با TensorFlow:"
   ]
  },
  {
   "cell_type": "code",
   "execution_count": null,
   "id": "67e9dd47-4e7c-42d0-931b-906b3bed059d",
   "metadata": {},
   "outputs": [],
   "source": [
    "# محاسبه مشتق با SymPy\n",
    "from sympy import symbols, diff\n",
    "\n",
    "x = symbols('x')\n",
    "f = x**2 + 3*x + 2\n",
    "df = diff(f, x)\n",
    "print(\"Derivative:\", df)\n",
    "\n",
    "# محاسبه گرادیان با TensorFlow\n",
    "import tensorflow as tf\n",
    "\n",
    "x = tf.Variable(2.0)\n",
    "with tf.GradientTape() as tape:\n",
    "    y = x**2 + 3*x + 2\n",
    "grad = tape.gradient(y, x)\n",
    "print(\"Gradient:\", grad.numpy())"
   ]
  },
  {
   "cell_type": "markdown",
   "id": "3226b567-26b4-4422-9801-77826c2c383e",
   "metadata": {},
   "source": [
    "۳. آمار و احتمالات (توزیعها، میانگین، واریانس)\n",
    "مثال: تولید داده از توزیع نرمال و محاسبه میانگین و واریانس"
   ]
  },
  {
   "cell_type": "code",
   "execution_count": null,
   "id": "51044783-2cde-4cf3-a256-024663065a11",
   "metadata": {},
   "outputs": [],
   "source": [
    "import numpy as np\n",
    "\n",
    "# تولید 1000 نمونه از توزیع نرمال (میانگین=0, واریانس=1)\n",
    "data = np.random.normal(0, 1, 1000)\n",
    "\n",
    "mean = np.mean(data)\n",
    "variance = np.var(data)\n",
    "print(f\"Mean: {mean:.2f}, Variance: {variance:.2f}\")"
   ]
  },
  {
   "cell_type": "markdown",
   "id": "d4e4cb72-bd2e-43fd-8cea-f812b781ffa6",
   "metadata": {},
   "source": [
    "۴. مبانی برنامهنویسی پایتون (سینتکس، حلقهها، شرطها)\n",
    "مثال: بررسی اعداد زوج و فرد در یک لیست:"
   ]
  },
  {
   "cell_type": "code",
   "execution_count": null,
   "id": "60ef8e95-7c12-4492-bf01-372777ca7fc4",
   "metadata": {},
   "outputs": [],
   "source": [
    "numbers = [1, 2, 3, 4, 5]\n",
    "\n",
    "for num in numbers:\n",
    "    if num % 2 == 0:\n",
    "        print(f\"{num} زوج است\")\n",
    "    else:\n",
    "        print(f\"{num} فرد است\")"
   ]
  },
  {
   "cell_type": "markdown",
   "id": "bd0deb95-34bd-41e8-b952-95c6074e2dc1",
   "metadata": {},
   "source": [
    "۵. ساختمان دادهها (لیستها، دیکشنریها، آرایهها)\n",
    "مثال: ذخیره اطلاعات پیکسلهای تصویر در لیست و دیکشنری:"
   ]
  },
  {
   "cell_type": "code",
   "execution_count": null,
   "id": "8e2ded70-b9f9-4905-bab0-b77a8a8656da",
   "metadata": {},
   "outputs": [],
   "source": [
    "# لیست 2D برای نمایش تصویر سیاهوسفید (3x3)\n",
    "image = [\n",
    "    [0, 127, 255],\n",
    "    [64, 192, 32],\n",
    "    [145, 76, 210]\n",
    "]\n",
    "\n",
    "# دیکشنری برای ذخیره متادیتای تصویر\n",
    "metadata = {\n",
    "    \"width\": 3,\n",
    "    \"height\": 3,\n",
    "    \"channels\": 1\n",
    "}"
   ]
  },
  {
   "cell_type": "markdown",
   "id": "62fff2ad-3739-4721-be66-3b11f5a1d74f",
   "metadata": {},
   "source": [
    "۶. مفاهیم شیگرایی (کلاسها، توابع، وراثت)\n",
    "مثال: ایجاد کلاس ساده برای پردازش تصویر:"
   ]
  },
  {
   "cell_type": "code",
   "execution_count": null,
   "id": "b9fe6b6b-1b3c-4ef4-94aa-0e5eeac218e1",
   "metadata": {},
   "outputs": [],
   "source": [
    "class ImageProcessor:\n",
    "    def __init__(self, image_data):\n",
    "        self.image = image_data\n",
    "\n",
    "    def resize(self, new_width, new_height):\n",
    "        # منطق تغییر اندازه (سادهشده)\n",
    "        print(f\"Resizing to {new_width}x{new_height}\")\n",
    "\n",
    "    def to_grayscale(self):\n",
    "        # منطق تبدیل به خاکستری\n",
    "        print(\"Converting to grayscale\")\n",
    "\n",
    "# ایجاد شیء از کلاس\n",
    "processor = ImageProcessor(image_data=[[0, 255], [127, 200]])\n",
    "processor.resize(4, 4)"
   ]
  },
  {
   "cell_type": "markdown",
   "id": "39ea38b1-3714-4520-9c48-659219fc5e2a",
   "metadata": {},
   "source": [
    "تجزیه مقادیر تکین (SVD) - مثال اضافی)\n",
    "مثال: کاهش ابعاد داده با SVD:"
   ]
  },
  {
   "cell_type": "code",
   "execution_count": null,
   "id": "467167c9-58e2-4031-af38-1aad1a5d746c",
   "metadata": {},
   "outputs": [],
   "source": [
    "import numpy as np\n",
    "\n",
    "# ماتریس 3x2\n",
    "data = np.array([[1, 2], [3, 4], [5, 6]])\n",
    "\n",
    "# تجزیه SVD\n",
    "U, S, VT = np.linalg.svd(data, full_matrices=False)\n",
    "\n",
    "# تقریب با یک مقدار تکین (کاهش بعد)\n",
    "approx = U[:, :1] @ np.diag(S[:1]) @ VT[:1, :]\n",
    "print(\"Approximated Matrix:\\n\", approx)"
   ]
  },
  {
   "cell_type": "markdown",
   "id": "5f30cc4c-25b5-423d-901c-75932a6c6e1c",
   "metadata": {},
   "source": [
    "۱. سیگنالهای دیجیتال و نمونهبرداری"
   ]
  },
  {
   "cell_type": "markdown",
   "id": "51c10059-e84f-498f-bc8e-e0fc620c694b",
   "metadata": {},
   "source": [
    "مثال ۱: تولید سیگنال سینوسی و نمونهبرداری از آن:"
   ]
  },
  {
   "cell_type": "code",
   "execution_count": null,
   "id": "ab5e76a8-d4c2-4a10-a015-d8a87b3546c2",
   "metadata": {},
   "outputs": [],
   "source": [
    "import numpy as np\n",
    "import matplotlib.pyplot as plt\n",
    "\n",
    "# تولید سیگنال پیوسته (سینوسی)\n",
    "t_continuous = np.linspace(0, 1, 1000)\n",
    "freq = 5  # فرکانس ۵ هرتز\n",
    "signal_continuous = np.sin(2 * np.pi * freq * t_continuous)\n",
    "\n",
    "# نمونهبرداری با نرخ ۳۰ هرتز\n",
    "sampling_rate = 30\n",
    "t_sampled = np.arange(0, 1, 1/sampling_rate)\n",
    "signal_sampled = np.sin(2 * np.pi * freq * t_sampled)\n",
    "\n",
    "# نمایش سیگنال\n",
    "plt.plot(t_continuous, signal_continuous, label='پیوسته')\n",
    "plt.stem(t_sampled, signal_sampled, 'r', label='نمونهبرداری شده')\n",
    "plt.legend()\n",
    "plt.show()"
   ]
  },
  {
   "cell_type": "markdown",
   "id": "e4a518db-9ec0-48dc-abbc-1fd08f8bd98d",
   "metadata": {},
   "source": [
    "مثال ۲: اثر نایکویست (Aliasing):"
   ]
  },
  {
   "cell_type": "code",
   "execution_count": null,
   "id": "b8258ed4-cc93-409b-87bf-0e6d9bef8a84",
   "metadata": {},
   "outputs": [],
   "source": [
    "# تولید سیگنال با فرکانس ۲۵ هرتز و نمونهبرداری با ۳۰ هرتز\n",
    "f_alias = 25\n",
    "t_alias = np.arange(0, 1, 1/30)\n",
    "signal_alias = np.sin(2 * np.pi * f_alias * t_alias)\n",
    "\n",
    "# نمایش سیگنال آلوده به Aliasing\n",
    "plt.stem(t_alias, signal_alias)\n",
    "plt.title(f'Aliasing با فرکانس {f_alias}Hz و نرخ نمونهبرداری 30Hz')\n",
    "plt.show()"
   ]
  },
  {
   "cell_type": "markdown",
   "id": "c5155b28-18b4-4e8b-bf6c-47647ea2fbb6",
   "metadata": {},
   "source": [
    "مثال ۳: بازسازی سیگنال با درونیابی:"
   ]
  },
  {
   "cell_type": "code",
   "execution_count": null,
   "id": "ba86aa63-4cab-4e2b-82c5-d8524d59973b",
   "metadata": {},
   "outputs": [],
   "source": [
    "from scipy.interpolate import interp1d\n",
    "\n",
    "# درونیابی سیگنال نمونهبرداری شده\n",
    "f_interp = interp1d(t_sampled, signal_sampled, kind='cubic')\n",
    "signal_reconstructed = f_interp(t_continuous)\n",
    "\n",
    "# مقایسه سیگنال اصلی و بازسازی شده\n",
    "plt.plot(t_continuous, signal_continuous, 'b', label='اصلی')\n",
    "plt.plot(t_continuous, signal_reconstructed, 'r--', label='بازسازی شده')\n",
    "plt.legend()\n",
    "plt.show()"
   ]
  },
  {
   "cell_type": "markdown",
   "id": "b1934053-9698-4840-8574-27e150b7b356",
   "metadata": {},
   "source": [
    "۲. فضای رنگی (RGB, YCbCr, Grayscale)"
   ]
  },
  {
   "cell_type": "markdown",
   "id": "bf037326-3f19-4aa6-a0d1-2ac3003947f9",
   "metadata": {},
   "source": [
    "مثال ۱: تبدیل تصویر RGB به Grayscale با فرمول استاندارد:"
   ]
  },
  {
   "cell_type": "code",
   "execution_count": null,
   "id": "11465994-5c40-4edd-9495-f1fac2fad6da",
   "metadata": {},
   "outputs": [],
   "source": [
    "import cv2\n",
    "\n",
    "# خواندن تصویر\n",
    "image = cv2.imread('image.jpg')\n",
    "rgb_image = cv2.cvtColor(image, cv2.COLOR_BGR2RGB)\n",
    "\n",
    "# تبدیل به Grayscale با فرمول: Y = 0.299*R + 0.587*G + 0.114*B\n",
    "gray_custom = np.dot(rgb_image[..., :3], [0.299, 0.587, 0.114]).astype(np.uint8)\n",
    "\n",
    "# نمایش تصویر\n",
    "plt.imshow(gray_custom, cmap='gray')\n",
    "plt.show()"
   ]
  },
  {
   "cell_type": "markdown",
   "id": "f5da13e4-d115-489e-874b-5b99ed7edd83",
   "metadata": {},
   "source": [
    "مثال ۲: تفکیک کانالهای YCbCr:"
   ]
  },
  {
   "cell_type": "code",
   "execution_count": null,
   "id": "cc888902-20db-4bfa-8b78-3a3b83f47763",
   "metadata": {},
   "outputs": [],
   "source": [
    "# تبدیل به YCbCr\n",
    "ycbcr_image = cv2.cvtColor(rgb_image, cv2.COLOR_RGB2YCrCb)\n",
    "Y, Cb, Cr = cv2.split(ycbcr_image)\n",
    "\n",
    "# نمایش کانالها\n",
    "fig, axs = plt.subplots(1, 3)\n",
    "axs[0].imshow(Y, cmap='gray')\n",
    "axs[1].imshow(Cb, cmap='gray')\n",
    "axs[2].imshow(Cr, cmap='gray')\n",
    "plt.show()"
   ]
  },
  {
   "cell_type": "markdown",
   "id": "7ef73cad-e3dc-4a95-a3e9-d22865d15490",
   "metadata": {},
   "source": [
    "مثال ۳: تغییر روشنایی در فضای YCbCr:"
   ]
  },
  {
   "cell_type": "code",
   "execution_count": null,
   "id": "088b8ed8-2eb4-4ae7-ba22-c0c859481a3c",
   "metadata": {},
   "outputs": [],
   "source": [
    "# افزایش روشنایی کانال Y\n",
    "Y_bright = np.clip(Y + 50, 0, 255).astype(np.uint8)\n",
    "\n",
    "# ترکیب مجدد و تبدیل به RGB\n",
    "ycbcr_bright = cv2.merge([Y_bright, Cb, Cr])\n",
    "rgb_bright = cv2.cvtColor(ycbcr_bright, cv2.COLOR_YCrCb2RGB)\n",
    "\n",
    "plt.imshow(rgb_bright)\n",
    "plt.show()"
   ]
  },
  {
   "cell_type": "markdown",
   "id": "0cf96386-1f25-4eb3-9c72-d5129493ae8f",
   "metadata": {},
   "source": [
    "۳. تبدیل فوریه و حوزه فرکانس"
   ]
  },
  {
   "cell_type": "markdown",
   "id": "f5131156-6a73-4c20-aa54-1421274554ea",
   "metadata": {},
   "source": [
    "مثال ۱: تبدیل فوریه یک سیگنال سینوسی:"
   ]
  },
  {
   "cell_type": "code",
   "execution_count": null,
   "id": "1856824b-13a7-49d1-a270-b7e5bbd75ce5",
   "metadata": {},
   "outputs": [],
   "source": [
    "# محاسبه FFT\n",
    "fft = np.fft.fft(signal_continuous)\n",
    "freqs = np.fft.fftfreq(len(fft), d=1/1000)\n",
    "\n",
    "# نمایش طیف فرکانسی\n",
    "plt.plot(freqs[:500], np.abs(fft)[:500])\n",
    "plt.xlabel('فرکانس (Hz)')\n",
    "plt.show()"
   ]
  },
  {
   "cell_type": "markdown",
   "id": "be8a8f29-fb04-494b-91cc-8dbecd1fcc25",
   "metadata": {},
   "source": [
    "۲: FFT روی تصویر و فیلتر فرکانس پایین:"
   ]
  },
  {
   "cell_type": "code",
   "execution_count": null,
   "id": "36de62d8-b9d5-490b-8180-1e60512d6092",
   "metadata": {},
   "outputs": [],
   "source": [
    "# تبدیل تصویر به Grayscale\n",
    "gray = cv2.cvtColor(image, cv2.COLOR_BGR2GRAY)\n",
    "\n",
    "# محاسبه FFT دو بعدی\n",
    "fft = np.fft.fft2(gray)\n",
    "fft_shift = np.fft.fftshift(fft)\n",
    "\n",
    "# ایجاد ماسک دایرهای (فیلتر کمگذر)\n",
    "rows, cols = gray.shape\n",
    "crow, ccol = rows//2, cols//2\n",
    "mask = np.zeros((rows, cols), np.uint8)\n",
    "cv2.circle(mask, (ccol, crow), 30, 1, -1)\n",
    "\n",
    "# اعمال ماسک و تبدیل معکوس\n",
    "filtered = fft_shift * mask\n",
    "ifft_shift = np.fft.ifftshift(filtered)\n",
    "img_filtered = np.fft.ifft2(ifft_shift).real\n",
    "\n",
    "plt.imshow(img_filtered, cmap='gray')\n",
    "plt.show()"
   ]
  },
  {
   "cell_type": "markdown",
   "id": "35360e60-b3b7-4c19-a414-597057282e80",
   "metadata": {},
   "source": [
    "مثال ۳: تحلیل فرکانس تصویر نویزی:"
   ]
  },
  {
   "cell_type": "code",
   "execution_count": null,
   "id": "41a30c6d-9795-4377-ba6e-04b219410b04",
   "metadata": {},
   "outputs": [],
   "source": [
    "# افزودن نویز به تصویر\n",
    "noisy = gray + np.random.normal(0, 25, gray.shape).astype(np.uint8)\n",
    "\n",
    "# نمایش طیف فرکانسی\n",
    "fft_noisy = np.fft.fftshift(np.fft.fft2(noisy))\n",
    "magnitude_spectrum = 20 * np.log(np.abs(fft_noisy))\n",
    "\n",
    "plt.imshow(magnitude_spectrum, cmap='gray')\n",
    "plt.title('طیف فرکانسی تصویر نویزی')\n",
    "plt.show()"
   ]
  },
  {
   "cell_type": "markdown",
   "id": "0f201894-9790-4912-bd72-d08e2d4150be",
   "metadata": {},
   "source": [
    "۴. فیلترها (کمگذر، پُرگذر، گوسی)\n",
    "مثال ۱: فیلتر گوسی برای حذف نویز:"
   ]
  },
  {
   "cell_type": "code",
   "execution_count": null,
   "id": "3dcf6b96-5287-4af7-a648-1c64f54fe77a",
   "metadata": {},
   "outputs": [],
   "source": [
    "# اعمال فیلتر گوسی با کرنل 5x5\n",
    "blurred = cv2.GaussianBlur(gray, (5,5), 0)\n",
    "\n",
    "plt.imshow(blurred, cmap='gray')\n",
    "plt.title('فیلتر گوسی')\n",
    "plt.show()"
   ]
  },
  {
   "cell_type": "markdown",
   "id": "23d122d0-e29f-4b79-a117-92a4a36a7132",
   "metadata": {},
   "source": [
    "مثال ۲: فیلتر پُرگذر (لبهیابی با Sobel):"
   ]
  },
  {
   "cell_type": "code",
   "execution_count": null,
   "id": "2358c72f-80a6-4012-af9a-c06564081012",
   "metadata": {},
   "outputs": [],
   "source": [
    "# فیلتر افقی Sobel\n",
    "sobel_x = cv2.Sobel(gray, cv2.CV_64F, 1, 0, ksize=3)\n",
    "sobel_x = np.uint8(np.absolute(sobel_x))\n",
    "\n",
    "plt.imshow(sobel_x, cmap='gray')\n",
    "plt.title('فیلتر Sobel افقی')\n",
    "plt.show()"
   ]
  },
  {
   "cell_type": "markdown",
   "id": "84e5a247-8788-44e2-a059-ef2ab1dd54e4",
   "metadata": {},
   "source": [
    "مثال ۳: فیلتر کمگذر با کرنل دستساز:"
   ]
  },
  {
   "cell_type": "code",
   "execution_count": null,
   "id": "fbfab9d8-a479-461b-8db7-f90d70ec0599",
   "metadata": {},
   "outputs": [],
   "source": [
    "# کرنل میانگینگیر 3x3\n",
    "kernel = np.ones((3,3), np.float32) / 9\n",
    "filtered = cv2.filter2D(gray, -1, kernel)\n",
    "\n",
    "plt.imshow(filtered, cmap='gray')\n",
    "plt.title('فیلتر میانگینگیر')\n",
    "plt.show()"
   ]
  },
  {
   "cell_type": "markdown",
   "id": "db45ab06-4f53-4f86-95b2-0d80b2c3e62e",
   "metadata": {},
   "source": [
    "۵. نویز و روشهای حذف آن\n",
    "مثال ۱: افزودن نویز گوسی به تصویر:"
   ]
  },
  {
   "cell_type": "code",
   "execution_count": null,
   "id": "1fdfd505-811e-4c03-ba01-c7418e3ddb47",
   "metadata": {},
   "outputs": [],
   "source": [
    "# تولید نویز گوسی\n",
    "noise = np.random.normal(0, 25, gray.shape).astype(np.uint8)\n",
    "noisy = cv2.add(gray, noise)\n",
    "\n",
    "plt.imshow(noisy, cmap='gray')\n",
    "plt.title('تصویر با نویز گوسی')\n",
    "plt.show()"
   ]
  },
  {
   "cell_type": "markdown",
   "id": "1d3d82cc-0060-422e-98f8-1ad505dba4cc",
   "metadata": {},
   "source": [
    "مثال ۲: حذف نویز Salt & Pepper با فیلتر میانه:"
   ]
  },
  {
   "cell_type": "code",
   "execution_count": null,
   "id": "c9b66ff0-0fff-4419-a0a5-8a75453744bf",
   "metadata": {},
   "outputs": [],
   "source": [
    "# افزودن نویز Salt & Pepper\n",
    "noisy_sp = cv2.addSaltAndPepper(gray.copy(), 0.05)\n",
    "\n",
    "# اعمال فیلتر میانه\n",
    "denoised = cv2.medianBlur(noisy_sp, 3)\n",
    "\n",
    "plt.imshow(denoised, cmap='gray')\n",
    "plt.title('پس از فیلتر میانه')\n",
    "plt.show()"
   ]
  },
  {
   "cell_type": "markdown",
   "id": "95e4755d-7a69-4e53-b0a2-7d9be5439cad",
   "metadata": {},
   "source": [
    "مثال ۳: حذف نویز با فیلتر دوطرفه (Bilateral):"
   ]
  },
  {
   "cell_type": "code",
   "execution_count": null,
   "id": "2231e562-dd52-452e-818b-78ad1708d258",
   "metadata": {},
   "outputs": [],
   "source": [
    "denoised_bilateral = cv2.bilateralFilter(noisy, 9, 75, 75)\n",
    "\n",
    "plt.imshow(denoised_bilateral, cmap='gray')\n",
    "plt.title('فیلتر دوطرفه')\n",
    "plt.show()"
   ]
  },
  {
   "cell_type": "markdown",
   "id": "9a16f301-ce97-4830-8da7-e2bcd60c8b28",
   "metadata": {},
   "source": [
    "۶. عملیات پایه روی پیکسلها\n",
    "مثال ۱: برش تصویر (Cropping):"
   ]
  },
  {
   "cell_type": "code",
   "execution_count": null,
   "id": "9779a6fb-b54f-4391-9aa5-d3257c23328b",
   "metadata": {},
   "outputs": [],
   "source": [
    "cropped = image[100:300, 200:400]\n",
    "plt.imshow(cropped)\n",
    "plt.title('تصویر برش خورده')\n",
    "plt.show()"
   ]
  },
  {
   "cell_type": "markdown",
   "id": "072e9181-8972-4651-a125-8de25e1aacb6",
   "metadata": {},
   "source": [
    "مثال ۲: چرخش تصویر با زاویه ۴۵ درجه:"
   ]
  },
  {
   "cell_type": "code",
   "execution_count": null,
   "id": "78b2040c-85b3-46a7-b291-ee4b5a939762",
   "metadata": {},
   "outputs": [],
   "source": [
    "rows, cols = gray.shape\n",
    "M = cv2.getRotationMatrix2D((cols/2, rows/2), 45, 1)\n",
    "rotated = cv2.warpAffine(gray, M, (cols, rows))\n",
    "\n",
    "plt.imshow(rotated, cmap='gray')\n",
    "plt.title('چرخش ۴۵ درجه')\n",
    "plt.show()"
   ]
  },
  {
   "cell_type": "markdown",
   "id": "4077f61f-d81d-427c-94f8-c5dbe7e2b5a8",
   "metadata": {},
   "source": [
    "مثال ۳: تغییر اندازه تصویر با درونیابی دوخطی:"
   ]
  },
  {
   "cell_type": "code",
   "execution_count": null,
   "id": "aba30dd9-d4ea-4587-b4d5-6bb2f4afc158",
   "metadata": {},
   "outputs": [],
   "source": [
    "resized = cv2.resize(gray, (200, 200), interpolation=cv2.INTER_LINEAR)\n",
    "plt.imshow(resized, cmap='gray')\n",
    "plt.title('تصویر 200x200')\n",
    "plt.show()"
   ]
  },
  {
   "cell_type": "markdown",
   "id": "e1cab7b2-d5aa-4130-bfb7-f92c79d9ad20",
   "metadata": {},
   "source": []
  }
 ],
 "metadata": {
  "kernelspec": {
   "display_name": "Python [conda env:tfgpuGit]",
   "language": "python",
   "name": "conda-env-tfgpuGit-py"
  },
  "language_info": {
   "codemirror_mode": {
    "name": "ipython",
    "version": 3
   },
   "file_extension": ".py",
   "mimetype": "text/x-python",
   "name": "python",
   "nbconvert_exporter": "python",
   "pygments_lexer": "ipython3",
   "version": "3.10.16"
  }
 },
 "nbformat": 4,
 "nbformat_minor": 5
}
