
Anil K. Jain
https://scholar.google.com/citations?hl=en&user=g-_ZXGsAAAAJ

Thomas S. Huang
https://scholar.google.com/citations?hl=en&user=rGF6-WkAAAAJ

Raquel Pezoa
https://scholar.google.com/citations?hl=en&user=v_0SXv4AAAAJ

Laurent D. Cohen
https://scholar.google.com/citations?hl=en&user=lphQnvMAAAAJ

TF Chan
https://scholar.google.com/citations?hl=en&user=UO7McmEAAAAJ

Jean-Luc Starck
https://scholar.google.com/citations?hl=en&user=IAaAiXgAAAAJ

Curtis Rueden
https://scholar.google.com/citations?hl=en&user=VqKfxYcAAAAJ

Eero P Simoncelli
https://scholar.google.com/citations?hl=en&user=MplR7_cAAAAJ

Zhou Wang
https://scholar.google.com/citations?hl=en&user=O0PjM4QAAAAJ

Robert M. Haralick
https://scholar.google.com/citations?hl=en&user=HMnF6i0AAAAJ