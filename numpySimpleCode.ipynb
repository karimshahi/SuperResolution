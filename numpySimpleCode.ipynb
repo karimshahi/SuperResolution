{
 "cells": [
  {
   "cell_type": "code",
   "execution_count": 5,
   "id": "534b5544-2ad6-408c-a012-882db829bf4b",
   "metadata": {},
   "outputs": [],
   "source": [
    "import numpy as np"
   ]
  },
  {
   "cell_type": "markdown",
   "id": "aaa922be-a14e-4a81-84fe-18b6403dc609",
   "metadata": {},
   "source": [
    "۱. ایجاد و مدیریت آرایهها\n",
    "np.array(): ساخت آرایه از دادههای موجود."
   ]
  },
  {
   "cell_type": "code",
   "execution_count": 17,
   "id": "f7c96e40-cfd4-4f7d-b142-777e9ddce55f",
   "metadata": {},
   "outputs": [
    {
     "name": "stdout",
     "output_type": "stream",
     "text": [
      "[[0.1, 0.3], [0.5, 0.9]]\n",
      "\n",
      "[[0.1 0.3]\n",
      " [0.5 0.9]]\n"
     ]
    }
   ],
   "source": [
    "image_data = [[0.1, 0.3], [0.5, 0.9]]\n",
    "image_array = np.array(image_data, dtype=np.float32)\n",
    "print(image_data)\n",
    "print('')\n",
    "print(image_array)"
   ]
  },
  {
   "cell_type": "markdown",
   "id": "8da79d6d-24a2-4463-92a0-3b2d24f1f649",
   "metadata": {},
   "source": [
    "np.zeros() / np.ones(): ایجاد آرایه پر از صفر یا یک."
   ]
  },
  {
   "cell_type": "code",
   "execution_count": 19,
   "id": "8fbbb1e4-8070-4ee3-9949-06408d2fa847",
   "metadata": {},
   "outputs": [
    {
     "name": "stdout",
     "output_type": "stream",
     "text": [
      "[[0 0 0 ... 0 0 0]\n",
      " [0 0 0 ... 0 0 0]\n",
      " [0 0 0 ... 0 0 0]\n",
      " ...\n",
      " [0 0 0 ... 0 0 0]\n",
      " [0 0 0 ... 0 0 0]\n",
      " [0 0 0 ... 0 0 0]]\n"
     ]
    }
   ],
   "source": [
    "mask = np.zeros((64, 64), dtype=np.uint8)  # ماسک برای کراپ تصویر\n",
    "print(mask)"
   ]
  },
  {
   "cell_type": "markdown",
   "id": "7afe2b59-1395-4eb1-9644-56f3f5bd83ae",
   "metadata": {},
   "source": [
    "np.arange(): ایجاد آرایه با اعداد متوالی."
   ]
  },
  {
   "cell_type": "code",
   "execution_count": 21,
   "id": "69802cc4-2016-49c1-a2bb-57d22a3b377a",
   "metadata": {},
   "outputs": [
    {
     "name": "stdout",
     "output_type": "stream",
     "text": [
      "[  0   1   2   3   4   5   6   7   8   9  10  11  12  13  14  15  16  17\n",
      "  18  19  20  21  22  23  24  25  26  27  28  29  30  31  32  33  34  35\n",
      "  36  37  38  39  40  41  42  43  44  45  46  47  48  49  50  51  52  53\n",
      "  54  55  56  57  58  59  60  61  62  63  64  65  66  67  68  69  70  71\n",
      "  72  73  74  75  76  77  78  79  80  81  82  83  84  85  86  87  88  89\n",
      "  90  91  92  93  94  95  96  97  98  99 100 101 102 103 104 105 106 107\n",
      " 108 109 110 111 112 113 114 115 116 117 118 119 120 121 122 123 124 125\n",
      " 126 127 128 129 130 131 132 133 134 135 136 137 138 139 140 141 142 143\n",
      " 144 145 146 147 148 149 150 151 152 153 154 155 156 157 158 159 160 161\n",
      " 162 163 164 165 166 167 168 169 170 171 172 173 174 175 176 177 178 179\n",
      " 180 181 182 183 184 185 186 187 188 189 190 191 192 193 194 195 196 197\n",
      " 198 199 200 201 202 203 204 205 206 207 208 209 210 211 212 213 214 215\n",
      " 216 217 218 219 220 221 222 223 224 225 226 227 228 229 230 231 232 233\n",
      " 234 235 236 237 238 239 240 241 242 243 244 245 246 247 248 249 250 251\n",
      " 252 253 254 255]\n"
     ]
    }
   ],
   "source": [
    "x_coords = np.arange(0, 256)  # محور X برای تبدیلات\n",
    "print(x_coords)"
   ]
  },
  {
   "cell_type": "markdown",
   "id": "056ce2b7-bdb8-41dc-8422-09e5679ed492",
   "metadata": {},
   "source": [
    "۲. تغییر شکل و ابعاد آرایه\n",
    ".reshape(): تغییر ابعاد آرایه بدون تغییر داده."
   ]
  },
  {
   "cell_type": "code",
   "execution_count": 23,
   "id": "abb62c47-eda6-491b-b6a7-7af2f8db249c",
   "metadata": {},
   "outputs": [
    {
     "name": "stdout",
     "output_type": "stream",
     "text": [
      "[0.1 0.3 0.5 0.9]\n"
     ]
    }
   ],
   "source": [
    "flattened_image = image_array.reshape(-1)  # تبدیل تصویر به وکتور\n",
    "print(flattened_image)"
   ]
  },
  {
   "cell_type": "markdown",
   "id": "78a93ea9-369e-4031-ab12-7297e87cfe0f",
   "metadata": {},
   "source": [
    "np.transpose(): جابجایی محورها (مثلاً برای تبدیل HWC به CHW)."
   ]
  },
  {
   "cell_type": "code",
   "execution_count": 27,
   "id": "03f3a639-ece4-402f-bc1d-73bc4cac568c",
   "metadata": {},
   "outputs": [
    {
     "ename": "ValueError",
     "evalue": "axes don't match array",
     "output_type": "error",
     "traceback": [
      "\u001b[1;31m---------------------------------------------------------------------------\u001b[0m",
      "\u001b[1;31mValueError\u001b[0m                                Traceback (most recent call last)",
      "Cell \u001b[1;32mIn[27], line 1\u001b[0m\n\u001b[1;32m----> 1\u001b[0m image_transposed \u001b[38;5;241m=\u001b[39m \u001b[43mnp\u001b[49m\u001b[38;5;241;43m.\u001b[39;49m\u001b[43mtranspose\u001b[49m\u001b[43m(\u001b[49m\u001b[43mimage_array\u001b[49m\u001b[43m,\u001b[49m\u001b[43m \u001b[49m\u001b[43m(\u001b[49m\u001b[38;5;241;43m2\u001b[39;49m\u001b[43m,\u001b[49m\u001b[43m \u001b[49m\u001b[38;5;241;43m0\u001b[39;49m\u001b[43m,\u001b[49m\u001b[43m \u001b[49m\u001b[38;5;241;43m1\u001b[39;49m\u001b[43m)\u001b[49m\u001b[43m)\u001b[49m  \u001b[38;5;66;03m# مناسب برای PyTorch\u001b[39;00m\n",
      "File \u001b[1;32m~\\anaconda3\\envs\\tfgpuGit\\lib\\site-packages\\numpy\\_core\\fromnumeric.py:703\u001b[0m, in \u001b[0;36mtranspose\u001b[1;34m(a, axes)\u001b[0m\n\u001b[0;32m    630\u001b[0m \u001b[38;5;129m@array_function_dispatch\u001b[39m(_transpose_dispatcher)\n\u001b[0;32m    631\u001b[0m \u001b[38;5;28;01mdef\u001b[39;00m\u001b[38;5;250m \u001b[39m\u001b[38;5;21mtranspose\u001b[39m(a, axes\u001b[38;5;241m=\u001b[39m\u001b[38;5;28;01mNone\u001b[39;00m):\n\u001b[0;32m    632\u001b[0m \u001b[38;5;250m    \u001b[39m\u001b[38;5;124;03m\"\"\"\u001b[39;00m\n\u001b[0;32m    633\u001b[0m \u001b[38;5;124;03m    Returns an array with axes transposed.\u001b[39;00m\n\u001b[0;32m    634\u001b[0m \n\u001b[1;32m   (...)\u001b[0m\n\u001b[0;32m    701\u001b[0m \n\u001b[0;32m    702\u001b[0m \u001b[38;5;124;03m    \"\"\"\u001b[39;00m\n\u001b[1;32m--> 703\u001b[0m     \u001b[38;5;28;01mreturn\u001b[39;00m \u001b[43m_wrapfunc\u001b[49m\u001b[43m(\u001b[49m\u001b[43ma\u001b[49m\u001b[43m,\u001b[49m\u001b[43m \u001b[49m\u001b[38;5;124;43m'\u001b[39;49m\u001b[38;5;124;43mtranspose\u001b[39;49m\u001b[38;5;124;43m'\u001b[39;49m\u001b[43m,\u001b[49m\u001b[43m \u001b[49m\u001b[43maxes\u001b[49m\u001b[43m)\u001b[49m\n",
      "File \u001b[1;32m~\\anaconda3\\envs\\tfgpuGit\\lib\\site-packages\\numpy\\_core\\fromnumeric.py:57\u001b[0m, in \u001b[0;36m_wrapfunc\u001b[1;34m(obj, method, *args, **kwds)\u001b[0m\n\u001b[0;32m     54\u001b[0m     \u001b[38;5;28;01mreturn\u001b[39;00m _wrapit(obj, method, \u001b[38;5;241m*\u001b[39margs, \u001b[38;5;241m*\u001b[39m\u001b[38;5;241m*\u001b[39mkwds)\n\u001b[0;32m     56\u001b[0m \u001b[38;5;28;01mtry\u001b[39;00m:\n\u001b[1;32m---> 57\u001b[0m     \u001b[38;5;28;01mreturn\u001b[39;00m bound(\u001b[38;5;241m*\u001b[39margs, \u001b[38;5;241m*\u001b[39m\u001b[38;5;241m*\u001b[39mkwds)\n\u001b[0;32m     58\u001b[0m \u001b[38;5;28;01mexcept\u001b[39;00m \u001b[38;5;167;01mTypeError\u001b[39;00m:\n\u001b[0;32m     59\u001b[0m     \u001b[38;5;66;03m# A TypeError occurs if the object does have such a method in its\u001b[39;00m\n\u001b[0;32m     60\u001b[0m     \u001b[38;5;66;03m# class, but its signature is not identical to that of NumPy's. This\u001b[39;00m\n\u001b[1;32m   (...)\u001b[0m\n\u001b[0;32m     64\u001b[0m     \u001b[38;5;66;03m# Call _wrapit from within the except clause to ensure a potential\u001b[39;00m\n\u001b[0;32m     65\u001b[0m     \u001b[38;5;66;03m# exception has a traceback chain.\u001b[39;00m\n\u001b[0;32m     66\u001b[0m     \u001b[38;5;28;01mreturn\u001b[39;00m _wrapit(obj, method, \u001b[38;5;241m*\u001b[39margs, \u001b[38;5;241m*\u001b[39m\u001b[38;5;241m*\u001b[39mkwds)\n",
      "\u001b[1;31mValueError\u001b[0m: axes don't match array"
     ]
    }
   ],
   "source": [
    "image_transposed = np.transpose(image_array, (2, 0, 1))  # مناسب برای PyTorch\n"
   ]
  },
  {
   "cell_type": "markdown",
   "id": "1d1b6a35-cda1-4f60-9962-949d789fd7db",
   "metadata": {},
   "source": [
    "np.expand_dims(): افزودن یک بعد جدید."
   ]
  },
  {
   "cell_type": "code",
   "execution_count": 31,
   "id": "821098a3-0029-486d-a661-ff5e7a6fb9f2",
   "metadata": {},
   "outputs": [
    {
     "name": "stdout",
     "output_type": "stream",
     "text": [
      "[[[0.1 0.3]\n",
      "  [0.5 0.9]]]\n"
     ]
    }
   ],
   "source": [
    "batch_image = np.expand_dims(image_array, axis=0)  # تبدیل به بچ سایز ۱\n",
    "print(batch_image)"
   ]
  },
  {
   "cell_type": "markdown",
   "id": "3e3aa56f-2bd7-4228-b760-3a7587cf679a",
   "metadata": {},
   "source": [
    "۳. عملیات ریاضی\n",
    "np.dot(): ضرب ماتریسی/دات پروداکت."
   ]
  },
  {
   "cell_type": "code",
   "execution_count": 39,
   "id": "31701080-5d20-4e34-a869-c8d1889ab5d9",
   "metadata": {},
   "outputs": [
    {
     "ename": "NameError",
     "evalue": "name 'NewModel001_New001' is not defined",
     "output_type": "error",
     "traceback": [
      "\u001b[1;31m---------------------------------------------------------------------------\u001b[0m",
      "\u001b[1;31mNameError\u001b[0m                                 Traceback (most recent call last)",
      "Cell \u001b[1;32mIn[39], line 2\u001b[0m\n\u001b[0;32m      1\u001b[0m kernel \u001b[38;5;241m=\u001b[39m np\u001b[38;5;241m.\u001b[39marray([[\u001b[38;5;241m1\u001b[39m, \u001b[38;5;241m0\u001b[39m], [\u001b[38;5;241m0\u001b[39m, \u001b[38;5;241m-\u001b[39m\u001b[38;5;241m1\u001b[39m]])\n\u001b[1;32m----> 2\u001b[0m filtered \u001b[38;5;241m=\u001b[39m np\u001b[38;5;241m.\u001b[39mdot(\u001b[43mNewModel001_New001\u001b[49m, kernel)  \u001b[38;5;66;03m# برای فیلترگذاری دستی\u001b[39;00m\n\u001b[0;32m      3\u001b[0m \u001b[38;5;28mprint\u001b[39m(filtered)\n",
      "\u001b[1;31mNameError\u001b[0m: name 'NewModel001_New001' is not defined"
     ]
    }
   ],
   "source": [
    "kernel = np.array([[1, 0], [0, -1]])\n",
    "filtered = np.dot(NewModel001_New001, kernel)  # برای فیلترگذاری دستی\n",
    "print(filtered)"
   ]
  },
  {
   "cell_type": "markdown",
   "id": "bb62c1ab-081f-4e9d-ab8b-ea783b2c3fb8",
   "metadata": {},
   "source": [
    "np.sum() / np.mean(): جمع/میانگین عناصر."
   ]
  },
  {
   "cell_type": "code",
   "execution_count": 41,
   "id": "3d27b170-c51e-42e7-976a-e2193715350d",
   "metadata": {},
   "outputs": [],
   "source": [
    "image_mean = np.mean(image_array)  # نرمالایز کردن روشنایی\n"
   ]
  },
  {
   "cell_type": "markdown",
   "id": "9f4b024c-01f7-4a0e-9e75-36281cdcceec",
   "metadata": {},
   "source": [
    "np.clip(): محدود کردن مقادیر بین دو عدد."
   ]
  },
  {
   "cell_type": "code",
   "execution_count": 43,
   "id": "7e199460-f5ec-4c20-af69-aae975ce277c",
   "metadata": {},
   "outputs": [],
   "source": [
    "normalized = np.clip(image_array * 255, 0, 255).astype(np.uint8)"
   ]
  },
  {
   "cell_type": "markdown",
   "id": "12f2abcc-a3d6-4f92-b61d-6ec5e57b382e",
   "metadata": {},
   "source": [
    "۴. برش، الحاق و تقسیم\n",
    "Slicing: برش تصویر به پچ‌های کوچک."
   ]
  },
  {
   "cell_type": "code",
   "execution_count": 46,
   "id": "ce1d7e90-5a09-4996-ac7b-6294070f8ff1",
   "metadata": {},
   "outputs": [],
   "source": [
    "patch = image_array[10:30, 20:40]  # برش پچ ۲۰x۲۰"
   ]
  },
  {
   "cell_type": "markdown",
   "id": "6f32a1ce-3f8a-45c5-ac07-09910a6e1f2a",
   "metadata": {},
   "source": [
    "np.concatenate(): الحاق آرایه‌ها در یک محور."
   ]
  },
  {
   "cell_type": "code",
   "execution_count": 49,
   "id": "2261739d-34e9-418e-b1df-0d49ce8592fd",
   "metadata": {},
   "outputs": [
    {
     "ename": "NameError",
     "evalue": "name 'image1' is not defined",
     "output_type": "error",
     "traceback": [
      "\u001b[1;31m---------------------------------------------------------------------------\u001b[0m",
      "\u001b[1;31mNameError\u001b[0m                                 Traceback (most recent call last)",
      "Cell \u001b[1;32mIn[49], line 1\u001b[0m\n\u001b[1;32m----> 1\u001b[0m combined \u001b[38;5;241m=\u001b[39m np\u001b[38;5;241m.\u001b[39mconcatenate([\u001b[43mimage1\u001b[49m, image2], axis\u001b[38;5;241m=\u001b[39m\u001b[38;5;241m1\u001b[39m)  \u001b[38;5;66;03m# ترکیب افقی\u001b[39;00m\n",
      "\u001b[1;31mNameError\u001b[0m: name 'image1' is not defined"
     ]
    }
   ],
   "source": [
    "combined = np.concatenate([image1, image2], axis=1)  # ترکیب افقی"
   ]
  },
  {
   "cell_type": "markdown",
   "id": "943e0d74-ef1e-4bbe-a65f-b653f4dbc61b",
   "metadata": {},
   "source": [
    "np.split(): تقسیم آرایه به بخش‌های کوچکتر."
   ]
  },
  {
   "cell_type": "code",
   "execution_count": 52,
   "id": "7eb6e1a4-d455-4fdd-b462-fe57ad26f255",
   "metadata": {},
   "outputs": [
    {
     "ename": "ValueError",
     "evalue": "array split does not result in an equal division",
     "output_type": "error",
     "traceback": [
      "\u001b[1;31m---------------------------------------------------------------------------\u001b[0m",
      "\u001b[1;31mValueError\u001b[0m                                Traceback (most recent call last)",
      "Cell \u001b[1;32mIn[52], line 1\u001b[0m\n\u001b[1;32m----> 1\u001b[0m patches \u001b[38;5;241m=\u001b[39m \u001b[43mnp\u001b[49m\u001b[38;5;241;43m.\u001b[39;49m\u001b[43msplit\u001b[49m\u001b[43m(\u001b[49m\u001b[43mimage_array\u001b[49m\u001b[43m,\u001b[49m\u001b[43m \u001b[49m\u001b[38;5;241;43m4\u001b[39;49m\u001b[43m,\u001b[49m\u001b[43m \u001b[49m\u001b[43maxis\u001b[49m\u001b[38;5;241;43m=\u001b[39;49m\u001b[38;5;241;43m0\u001b[39;49m\u001b[43m)\u001b[49m  \u001b[38;5;66;03m# تقسیم به ۴ بلوک عمودی\u001b[39;00m\n",
      "File \u001b[1;32m~\\anaconda3\\envs\\tfgpuGit\\lib\\site-packages\\numpy\\lib\\_shape_base_impl.py:877\u001b[0m, in \u001b[0;36msplit\u001b[1;34m(ary, indices_or_sections, axis)\u001b[0m\n\u001b[0;32m    875\u001b[0m     N \u001b[38;5;241m=\u001b[39m ary\u001b[38;5;241m.\u001b[39mshape[axis]\n\u001b[0;32m    876\u001b[0m     \u001b[38;5;28;01mif\u001b[39;00m N \u001b[38;5;241m%\u001b[39m sections:\n\u001b[1;32m--> 877\u001b[0m         \u001b[38;5;28;01mraise\u001b[39;00m \u001b[38;5;167;01mValueError\u001b[39;00m(\n\u001b[0;32m    878\u001b[0m             \u001b[38;5;124m'\u001b[39m\u001b[38;5;124marray split does not result in an equal division\u001b[39m\u001b[38;5;124m'\u001b[39m) \u001b[38;5;28;01mfrom\u001b[39;00m\u001b[38;5;250m \u001b[39m\u001b[38;5;28;01mNone\u001b[39;00m\n\u001b[0;32m    879\u001b[0m \u001b[38;5;28;01mreturn\u001b[39;00m array_split(ary, indices_or_sections, axis)\n",
      "\u001b[1;31mValueError\u001b[0m: array split does not result in an equal division"
     ]
    }
   ],
   "source": [
    "patches = np.split(image_array, 4, axis=0)  # تقسیم به ۴ بلوک عمودی"
   ]
  },
  {
   "cell_type": "markdown",
   "id": "7a2c9496-26d1-44a9-a1dd-6b2cf373b87d",
   "metadata": {},
   "source": [
    "۵. محاسبات پیشرفته\n",
    "np.fft.fft2() / np.fft.ifft2(): تبدیل فوریه دو بعدی."
   ]
  },
  {
   "cell_type": "code",
   "execution_count": 55,
   "id": "b10357fa-838c-492c-a713-363450ef6092",
   "metadata": {},
   "outputs": [],
   "source": [
    "fft_image = np.fft.fft2(image_array)\n",
    "reconstructed = np.fft.ifft2(fft_image).real"
   ]
  },
  {
   "cell_type": "markdown",
   "id": "5c2f056f-f18e-4345-bdce-d4632ab19203",
   "metadata": {},
   "source": [
    "np.where(): اعمال شرط روی آرایه."
   ]
  },
  {
   "cell_type": "code",
   "execution_count": 58,
   "id": "3d5e7212-c98e-4cd0-932a-3bd764226291",
   "metadata": {},
   "outputs": [],
   "source": [
    "high_intensity = np.where(image_array > 0.8, 1, 0)  # شناسایی نقاط پرنور"
   ]
  },
  {
   "cell_type": "markdown",
   "id": "7a0ae30e-a8cf-4c2b-a1cd-20db7542fe49",
   "metadata": {},
   "source": [
    "np.linalg.norm(): محاسبه نرم (برای محاسبه Loss مثل MSE)."
   ]
  },
  {
   "cell_type": "code",
   "execution_count": 61,
   "id": "9b446a13-f8a3-4f5c-ba6b-cb98845b01f4",
   "metadata": {},
   "outputs": [
    {
     "ename": "NameError",
     "evalue": "name 'original' is not defined",
     "output_type": "error",
     "traceback": [
      "\u001b[1;31m---------------------------------------------------------------------------\u001b[0m",
      "\u001b[1;31mNameError\u001b[0m                                 Traceback (most recent call last)",
      "Cell \u001b[1;32mIn[61], line 1\u001b[0m\n\u001b[1;32m----> 1\u001b[0m mse_loss \u001b[38;5;241m=\u001b[39m np\u001b[38;5;241m.\u001b[39mlinalg\u001b[38;5;241m.\u001b[39mnorm(\u001b[43moriginal\u001b[49m \u001b[38;5;241m-\u001b[39m reconstructed) \u001b[38;5;241m*\u001b[39m\u001b[38;5;241m*\u001b[39m \u001b[38;5;241m2\u001b[39m\n",
      "\u001b[1;31mNameError\u001b[0m: name 'original' is not defined"
     ]
    }
   ],
   "source": [
    "mse_loss = np.linalg.norm(original - reconstructed) ** 2"
   ]
  },
  {
   "cell_type": "markdown",
   "id": "d7de04b0-ea31-4a07-955e-dd6adb844edb",
   "metadata": {},
   "source": [
    "۶. بهینه‌سازی و محاسبات برداری\n",
    "np.vectorize(): تبدیل تابع به نسخه برداری."
   ]
  },
  {
   "cell_type": "code",
   "execution_count": 64,
   "id": "ab425bec-b277-4c5c-b35d-25f15d80fc8e",
   "metadata": {},
   "outputs": [],
   "source": [
    "def relu(x): return max(0, x)\n",
    "vectorized_relu = np.vectorize(relu)\n",
    "activated = vectorized_relu(image_array)"
   ]
  },
  {
   "cell_type": "markdown",
   "id": "29250483-ba26-4c0a-b20a-8655768ec28b",
   "metadata": {},
   "source": [
    "np.einsum(): محاسبات پیشرفته برداری (مثلاً برای Attention)."
   ]
  },
  {
   "cell_type": "code",
   "execution_count": 67,
   "id": "f6f8ccb6-b094-4c46-9704-1de9aaf8ea54",
   "metadata": {},
   "outputs": [
    {
     "ename": "NameError",
     "evalue": "name 'features' is not defined",
     "output_type": "error",
     "traceback": [
      "\u001b[1;31m---------------------------------------------------------------------------\u001b[0m",
      "\u001b[1;31mNameError\u001b[0m                                 Traceback (most recent call last)",
      "Cell \u001b[1;32mIn[67], line 1\u001b[0m\n\u001b[1;32m----> 1\u001b[0m similarity \u001b[38;5;241m=\u001b[39m np\u001b[38;5;241m.\u001b[39meinsum(\u001b[38;5;124m'\u001b[39m\u001b[38;5;124mhwc,dc->hwd\u001b[39m\u001b[38;5;124m'\u001b[39m, \u001b[43mfeatures\u001b[49m, weights)\n",
      "\u001b[1;31mNameError\u001b[0m: name 'features' is not defined"
     ]
    }
   ],
   "source": [
    "similarity = np.einsum('hwc,dc->hwd', features, weights)"
   ]
  },
  {
   "cell_type": "markdown",
   "id": "9f1c393a-5745-44aa-8815-ef842bddbcbd",
   "metadata": {},
   "source": [
    "۷. توابع کاربردی برای فراوضوح\n",
    "np.lib.stride_tricks.sliding_window_view(): ساخت پچ‌های متوالی."
   ]
  },
  {
   "cell_type": "code",
   "execution_count": 70,
   "id": "da048cf1-8c83-4247-a501-d3e3b50de6e8",
   "metadata": {},
   "outputs": [
    {
     "ename": "NameError",
     "evalue": "name 'image' is not defined",
     "output_type": "error",
     "traceback": [
      "\u001b[1;31m---------------------------------------------------------------------------\u001b[0m",
      "\u001b[1;31mNameError\u001b[0m                                 Traceback (most recent call last)",
      "Cell \u001b[1;32mIn[70], line 1\u001b[0m\n\u001b[1;32m----> 1\u001b[0m patches \u001b[38;5;241m=\u001b[39m np\u001b[38;5;241m.\u001b[39mlib\u001b[38;5;241m.\u001b[39mstride_tricks\u001b[38;5;241m.\u001b[39msliding_window_view(\u001b[43mimage\u001b[49m, (\u001b[38;5;241m32\u001b[39m, \u001b[38;5;241m32\u001b[39m))\n",
      "\u001b[1;31mNameError\u001b[0m: name 'image' is not defined"
     ]
    }
   ],
   "source": [
    "patches = np.lib.stride_tricks.sliding_window_view(image, (32, 32))"
   ]
  },
  {
   "cell_type": "markdown",
   "id": "b8fa5fec-bff8-420b-85a4-49417dc7d186",
   "metadata": {},
   "source": [
    "np.pad(): اضافه کردن حاشیه به تصویر."
   ]
  },
  {
   "cell_type": "code",
   "execution_count": 73,
   "id": "27dab721-e610-4dc3-95d9-dc42503268d0",
   "metadata": {},
   "outputs": [
    {
     "ename": "NameError",
     "evalue": "name 'image' is not defined",
     "output_type": "error",
     "traceback": [
      "\u001b[1;31m---------------------------------------------------------------------------\u001b[0m",
      "\u001b[1;31mNameError\u001b[0m                                 Traceback (most recent call last)",
      "Cell \u001b[1;32mIn[73], line 1\u001b[0m\n\u001b[1;32m----> 1\u001b[0m padded \u001b[38;5;241m=\u001b[39m np\u001b[38;5;241m.\u001b[39mpad(\u001b[43mimage\u001b[49m, ((\u001b[38;5;241m10\u001b[39m,\u001b[38;5;241m10\u001b[39m), (\u001b[38;5;241m10\u001b[39m,\u001b[38;5;241m10\u001b[39m)), mode\u001b[38;5;241m=\u001b[39m\u001b[38;5;124m'\u001b[39m\u001b[38;5;124mreflect\u001b[39m\u001b[38;5;124m'\u001b[39m)  \u001b[38;5;66;03m# مناسب برای کانولوشن\u001b[39;00m\n",
      "\u001b[1;31mNameError\u001b[0m: name 'image' is not defined"
     ]
    }
   ],
   "source": [
    "padded = np.pad(image, ((10,10), (10,10)), mode='reflect')  # مناسب برای کانولوشن"
   ]
  },
  {
   "cell_type": "markdown",
   "id": "15a80776-dd52-4dea-9715-bac55e98ca61",
   "metadata": {},
   "source": [
    "np.meshgrid(): ایجاد شبکه مختصات (برای Warping)."
   ]
  },
  {
   "cell_type": "code",
   "execution_count": 76,
   "id": "3b81b891-f9aa-427d-aef1-b567252ad2c1",
   "metadata": {},
   "outputs": [],
   "source": [
    "x, y = np.meshgrid(np.arange(256), np.arange(256))"
   ]
  },
  {
   "cell_type": "markdown",
   "id": "4b8f3be1-fdd7-40b4-804f-1e4dff2b2661",
   "metadata": {},
   "source": [
    "مثال جامع: محاسبه PSNR"
   ]
  },
  {
   "cell_type": "markdown",
   "id": "452d6dd9-3678-4972-b7e3-9b92877b7d0f",
   "metadata": {},
   "source": [
    "def calculate_psnr(original, reconstructed):\n",
    "    mse = np.mean((original - reconstructed) ** 2)\n",
    "    max_pixel = 1.0  # اگر تصویر نرمالایز شده است\n",
    "    psnr = 20 * np.log10(max_pixel / np.sqrt(mse))\n",
    "    return psnr"
   ]
  },
  {
   "cell_type": "code",
   "execution_count": null,
   "id": "8f77a130-ddb4-4d54-b229-e3c86bae067c",
   "metadata": {},
   "outputs": [],
   "source": []
  }
 ],
 "metadata": {
  "kernelspec": {
   "display_name": "Python [conda env:tfgpuGit]",
   "language": "python",
   "name": "conda-env-tfgpuGit-py"
  },
  "language_info": {
   "codemirror_mode": {
    "name": "ipython",
    "version": 3
   },
   "file_extension": ".py",
   "mimetype": "text/x-python",
   "name": "python",
   "nbconvert_exporter": "python",
   "pygments_lexer": "ipython3",
   "version": "3.10.16"
  }
 },
 "nbformat": 4,
 "nbformat_minor": 5
}
