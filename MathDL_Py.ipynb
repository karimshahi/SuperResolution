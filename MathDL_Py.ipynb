{
 "cells": [
  {
   "cell_type": "markdown",
   "id": "b98cc171-740a-41fc-ba9c-87ed49e8712b",
   "metadata": {},
   "source": [
    " جبر خطی (ماتریسها، بردارها، تجزیه مقادیر تکین)"
   ]
  },
  {
   "cell_type": "markdown",
   "id": "db17ec99-09ad-4a9d-9a63-55e4e373f26f",
   "metadata": {},
   "source": [
    "مثال: محاسبه ضرب ماتریسها و تجزیه SVD با NumPy:"
   ]
  },
  {
   "cell_type": "code",
   "execution_count": null,
   "id": "b3a0aeda-a14f-46e6-a603-17afd32ddf8f",
   "metadata": {},
   "outputs": [],
   "source": [
    "import numpy as np\n",
    "\n",
    "# ماتریس 2x2\n",
    "A = np.array([[1, 2], [3, 4]])\n",
    "\n",
    "# ضرب ماتریسها\n",
    "B = np.dot(A, A.T)  # A در ترانهاده خودش\n",
    "\n",
    "# تجزیه SVD\n",
    "U, S, VT = np.linalg.svd(A)\n",
    "print(\"SVD Results:\\nU:\", U, \"\\nS:\", S, \"\\nVT:\", VT)"
   ]
  },
  {
   "cell_type": "markdown",
   "id": "70ce8fa6-4e20-471c-aa54-4b610f226d26",
   "metadata": {},
   "source": [
    "۲. حسابان (مشتقات، گرادیان، بهینهسازی)\n",
    "مثال: محاسبه مشتق تابع ساده با SymPy و گرادیان با TensorFlow:"
   ]
  },
  {
   "cell_type": "code",
   "execution_count": null,
   "id": "67e9dd47-4e7c-42d0-931b-906b3bed059d",
   "metadata": {},
   "outputs": [],
   "source": [
    "# محاسبه مشتق با SymPy\n",
    "from sympy import symbols, diff\n",
    "\n",
    "x = symbols('x')\n",
    "f = x**2 + 3*x + 2\n",
    "df = diff(f, x)\n",
    "print(\"Derivative:\", df)\n",
    "\n",
    "# محاسبه گرادیان با TensorFlow\n",
    "import tensorflow as tf\n",
    "\n",
    "x = tf.Variable(2.0)\n",
    "with tf.GradientTape() as tape:\n",
    "    y = x**2 + 3*x + 2\n",
    "grad = tape.gradient(y, x)\n",
    "print(\"Gradient:\", grad.numpy())"
   ]
  },
  {
   "cell_type": "markdown",
   "id": "3226b567-26b4-4422-9801-77826c2c383e",
   "metadata": {},
   "source": [
    "۳. آمار و احتمالات (توزیعها، میانگین، واریانس)\n",
    "مثال: تولید داده از توزیع نرمال و محاسبه میانگین و واریانس"
   ]
  },
  {
   "cell_type": "code",
   "execution_count": null,
   "id": "51044783-2cde-4cf3-a256-024663065a11",
   "metadata": {},
   "outputs": [],
   "source": [
    "import numpy as np\n",
    "\n",
    "# تولید 1000 نمونه از توزیع نرمال (میانگین=0, واریانس=1)\n",
    "data = np.random.normal(0, 1, 1000)\n",
    "\n",
    "mean = np.mean(data)\n",
    "variance = np.var(data)\n",
    "print(f\"Mean: {mean:.2f}, Variance: {variance:.2f}\")"
   ]
  },
  {
   "cell_type": "markdown",
   "id": "d4e4cb72-bd2e-43fd-8cea-f812b781ffa6",
   "metadata": {},
   "source": [
    "۴. مبانی برنامهنویسی پایتون (سینتکس، حلقهها، شرطها)\n",
    "مثال: بررسی اعداد زوج و فرد در یک لیست:"
   ]
  },
  {
   "cell_type": "code",
   "execution_count": null,
   "id": "60ef8e95-7c12-4492-bf01-372777ca7fc4",
   "metadata": {},
   "outputs": [],
   "source": [
    "numbers = [1, 2, 3, 4, 5]\n",
    "\n",
    "for num in numbers:\n",
    "    if num % 2 == 0:\n",
    "        print(f\"{num} زوج است\")\n",
    "    else:\n",
    "        print(f\"{num} فرد است\")"
   ]
  },
  {
   "cell_type": "markdown",
   "id": "bd0deb95-34bd-41e8-b952-95c6074e2dc1",
   "metadata": {},
   "source": [
    "۵. ساختمان دادهها (لیستها، دیکشنریها، آرایهها)\n",
    "مثال: ذخیره اطلاعات پیکسلهای تصویر در لیست و دیکشنری:"
   ]
  },
  {
   "cell_type": "code",
   "execution_count": null,
   "id": "8e2ded70-b9f9-4905-bab0-b77a8a8656da",
   "metadata": {},
   "outputs": [],
   "source": [
    "# لیست 2D برای نمایش تصویر سیاهوسفید (3x3)\n",
    "image = [\n",
    "    [0, 127, 255],\n",
    "    [64, 192, 32],\n",
    "    [145, 76, 210]\n",
    "]\n",
    "\n",
    "# دیکشنری برای ذخیره متادیتای تصویر\n",
    "metadata = {\n",
    "    \"width\": 3,\n",
    "    \"height\": 3,\n",
    "    \"channels\": 1\n",
    "}"
   ]
  },
  {
   "cell_type": "markdown",
   "id": "62fff2ad-3739-4721-be66-3b11f5a1d74f",
   "metadata": {},
   "source": [
    "۶. مفاهیم شیگرایی (کلاسها، توابع، وراثت)\n",
    "مثال: ایجاد کلاس ساده برای پردازش تصویر:"
   ]
  },
  {
   "cell_type": "code",
   "execution_count": null,
   "id": "b9fe6b6b-1b3c-4ef4-94aa-0e5eeac218e1",
   "metadata": {},
   "outputs": [],
   "source": [
    "class ImageProcessor:\n",
    "    def __init__(self, image_data):\n",
    "        self.image = image_data\n",
    "\n",
    "    def resize(self, new_width, new_height):\n",
    "        # منطق تغییر اندازه (سادهشده)\n",
    "        print(f\"Resizing to {new_width}x{new_height}\")\n",
    "\n",
    "    def to_grayscale(self):\n",
    "        # منطق تبدیل به خاکستری\n",
    "        print(\"Converting to grayscale\")\n",
    "\n",
    "# ایجاد شیء از کلاس\n",
    "processor = ImageProcessor(image_data=[[0, 255], [127, 200]])\n",
    "processor.resize(4, 4)"
   ]
  },
  {
   "cell_type": "markdown",
   "id": "39ea38b1-3714-4520-9c48-659219fc5e2a",
   "metadata": {},
   "source": [
    "تجزیه مقادیر تکین (SVD) - مثال اضافی)\n",
    "مثال: کاهش ابعاد داده با SVD:"
   ]
  },
  {
   "cell_type": "code",
   "execution_count": null,
   "id": "467167c9-58e2-4031-af38-1aad1a5d746c",
   "metadata": {},
   "outputs": [],
   "source": [
    "import numpy as np\n",
    "\n",
    "# ماتریس 3x2\n",
    "data = np.array([[1, 2], [3, 4], [5, 6]])\n",
    "\n",
    "# تجزیه SVD\n",
    "U, S, VT = np.linalg.svd(data, full_matrices=False)\n",
    "\n",
    "# تقریب با یک مقدار تکین (کاهش بعد)\n",
    "approx = U[:, :1] @ np.diag(S[:1]) @ VT[:1, :]\n",
    "print(\"Approximated Matrix:\\n\", approx)"
   ]
  },
  {
   "cell_type": "markdown",
   "id": "30e710d0-2b8e-4319-8d12-6f6667d19168",
   "metadata": {},
   "source": []
  }
 ],
 "metadata": {
  "kernelspec": {
   "display_name": "Python [conda env:tfgpuGit]",
   "language": "python",
   "name": "conda-env-tfgpuGit-py"
  },
  "language_info": {
   "codemirror_mode": {
    "name": "ipython",
    "version": 3
   },
   "file_extension": ".py",
   "mimetype": "text/x-python",
   "name": "python",
   "nbconvert_exporter": "python",
   "pygments_lexer": "ipython3",
   "version": "3.10.16"
  }
 },
 "nbformat": 4,
 "nbformat_minor": 5
}
